{
 "cells": [
  {
   "cell_type": "markdown",
   "metadata": {},
   "source": [
    "# Creating the graphml files\n",
    "\n",
    "Here we get the data to create the graphs of the network of actors and directors."
   ]
  },
  {
   "cell_type": "code",
   "execution_count": null,
   "metadata": {
    "colab": {
     "base_uri": "https://localhost:8080/",
     "height": 35
    },
    "colab_type": "code",
    "id": "ts6lEj2Xb03P",
    "outputId": "c286628d-3949-458f-c658-6baaa327fb16"
   },
   "outputs": [],
   "source": [
    "!pip install ratelimit"
   ]
  },
  {
   "cell_type": "code",
   "execution_count": null,
   "metadata": {
    "colab": {},
    "colab_type": "code",
    "id": "Mt83DRYTNb0t"
   },
   "outputs": [],
   "source": [
    "import pandas as pd\n",
    "import requests\n",
    "import json\n",
    "import numpy as np\n",
    "import networkx as nx\n",
    "from operator import itemgetter\n",
    "from ratelimit import limits, sleep_and_retry\n",
    "import re"
   ]
  },
  {
   "cell_type": "code",
   "execution_count": null,
   "metadata": {
    "colab": {},
    "colab_type": "code",
    "id": "IjSQEmQ_Vk5G"
   },
   "outputs": [],
   "source": [
    "# Paste here your key\n",
    "api_key = ''\n",
    "\n",
    "api_url = 'https://api.themoviedb.org/3/'\n",
    "\n",
    "# Store data of searchs\n",
    "SearchPeople = pd.DataFrame.from_dict({\"data\":[]})\n",
    "SearchMovies = pd.DataFrame.from_dict({\"data\":[]})\n",
    "\n",
    "# Store data of people and movies\n",
    "IDPeople = pd.DataFrame.from_dict({\"data\":[]})\n",
    "IDMovies = pd.DataFrame.from_dict({\"data\":[]})\n",
    "\n",
    "# If you saved your data previously\n",
    "# IDPeople = pd.read_csv(\"IDPeople.csv\", index_col=0)\n",
    "# IDMovies = pd.read_csv(\"IDMovies.csv\", index_col=0)\n",
    "\n",
    "MovieGenres = [] "
   ]
  },
  {
   "cell_type": "code",
   "execution_count": null,
   "metadata": {
    "colab": {},
    "colab_type": "code",
    "id": "7tLYBbVicRYN"
   },
   "outputs": [],
   "source": [
    "# The official limit is \n",
    "# 40 request per 10 seconds\n",
    "\n",
    "TIME_IN_SECONDS = 1\n",
    "REQUESTS = 3\n",
    "\n",
    "@sleep_and_retry\n",
    "@limits(calls=REQUESTS, period=TIME_IN_SECONDS)\n",
    "def call_api(url):\n",
    "    response = requests.get(url)\n",
    "    if response.status_code == 429:\n",
    "        raise Exception('API response: {}'.format(response.status_code))\n",
    "    return response\n",
    "  \n",
    "MovieGenres = call_api(api_url+\"genre/movie/list?api_key=\"+api_key).json()['genres']"
   ]
  },
  {
   "cell_type": "code",
   "execution_count": null,
   "metadata": {
    "colab": {
     "base_uri": "https://localhost:8080/",
     "height": 366
    },
    "colab_type": "code",
    "id": "ZauK6DAAq88v",
    "outputId": "62c8efbf-1c21-46bc-ba39-0164cb8124ff"
   },
   "outputs": [],
   "source": [
    "MovieGenres"
   ]
  },
  {
   "cell_type": "code",
   "execution_count": null,
   "metadata": {
    "colab": {},
    "colab_type": "code",
    "id": "33CN-YjiXIXQ"
   },
   "outputs": [],
   "source": [
    "# Search a person\n",
    "def searchPerson(person):\n",
    "    global SearchPeople\n",
    "    try:\n",
    "        return json.loads(SearchPeople.loc[person,\"data\"])\n",
    "    except: \n",
    "        url = api_url+\"search/person?api_key=\"+api_key+\"&query=\\\"\"+person+\"\\\"\"\n",
    "        response = call_api(url)\n",
    "        data = response.json()\n",
    "        SearchPeople = SearchPeople.append(pd.Series({'data':json.dumps(data)},name=person))\n",
    "        return data\n",
    "    \n",
    "# Search a movie\n",
    "def searchMovie(movie):\n",
    "    global SearchMovies\n",
    "    try:\n",
    "        return json.loads(SearchMovies.loc[movie,\"data\"])\n",
    "    except:\n",
    "        page = 1\n",
    "        data = {}\n",
    "        url = api_url+\"search/movie?api_key=\"+api_key+\"&query=\\\"\"+movie+\"\\\"&page=\"+str(page)\n",
    "        response = call_api(url).json()\n",
    "        data[page] = response[\"results\"]\n",
    "        total_pages = response[\"total_pages\"]\n",
    "        page += 1\n",
    "\n",
    "        while(page <= total_pages):\n",
    "            url = api_url+\"search/movie?api_key=\"+api_key+\"&query=\\\"\"+movie+\"\\\"&page=\"+str(page)\n",
    "            response = call_api(url).json()\n",
    "            data[page] = response[\"results\"]\n",
    "            page += 1\n",
    "      \n",
    "        results = [result for page in data.values() for result in page]\n",
    "        SearchMovies = SearchMovies.append(pd.Series({'data':json.dumps(results)},name=movie))\n",
    "        return results\n",
    "    \n",
    "# Search a movie on a year\n",
    "def searchMovieOnYear(movie, year):\n",
    "    global SearchMovies\n",
    "    try:\n",
    "        return json.loads(SearchMovies.loc[movie+\"_\"+str(year),\"data\"])\n",
    "    except:\n",
    "        page = 1\n",
    "        data = {}\n",
    "        url = api_url+\"search/movie?api_key=\"+api_key+\"&query=\\\"\"+movie+\"\\\"&page=\"+str(page)+\"&year=\"+str(year)\n",
    "        response = call_api(url).json()\n",
    "        data[page] = response[\"results\"]\n",
    "        total_pages = response[\"total_pages\"]\n",
    "        page += 1\n",
    "\n",
    "        while(page <= total_pages):\n",
    "            url = api_url+\"search/movie?api_key=\"+api_key+\"&query=\\\"\"+movie+\"\\\"&page=\"+str(page)+\"&year=\"+str(year)\n",
    "            response = call_api(url).json()\n",
    "            data[page] = response[\"results\"]\n",
    "            page += 1\n",
    "\n",
    "        results = [result for page in data.values() for result in page]\n",
    "        SearchMovies = SearchMovies.append(pd.Series({'data':json.dumps(results)},name=movie))\n",
    "        return results"
   ]
  },
  {
   "cell_type": "code",
   "execution_count": null,
   "metadata": {
    "colab": {},
    "colab_type": "code",
    "id": "TxBY_IjrNhL4"
   },
   "outputs": [],
   "source": [
    "# Person and movie credits\n",
    "def getPerson(person_id):\n",
    "    global IDPeople\n",
    "    try:\n",
    "        return json.loads(IDPeople.loc[person_id,\"data\"])\n",
    "    except: \n",
    "        url = api_url+\"person/\"+str(person_id)+\"?api_key=\"+api_key+\"&append_to_response=movie_credits\"\n",
    "        response = call_api(url)\n",
    "        data = response.json()\n",
    "        IDPeople = IDPeople.append(pd.Series({'data':json.dumps(data)},name=person_id))\n",
    "        return data\n",
    "\n",
    "# Movie and credits\n",
    "def getMovie(movie_id):\n",
    "    global IDMovies\n",
    "    try:\n",
    "        return json.loads(IDMovies.loc[movie_id,\"data\"])\n",
    "    except: \n",
    "        url = api_url+\"movie/\"+str(movie_id)+\"?api_key=\"+api_key+\"&append_to_response=credits\"\n",
    "        response = call_api(url)\n",
    "        data = response.json()\n",
    "        IDMovies = IDMovies.append(pd.Series({'data':json.dumps(data)},name=movie_id))\n",
    "        return data"
   ]
  },
  {
   "cell_type": "code",
   "execution_count": null,
   "metadata": {
    "colab": {},
    "colab_type": "code",
    "id": "2Og4Ugr5sEDE"
   },
   "outputs": [],
   "source": [
    "# Get the genre object from the genre_id\n",
    "def getGenre(genre_id):\n",
    "    return [genre for genre in MovieGenres if genre[\"id\"] == genre_id][0]\n",
    "\n",
    "# get the movies with a genre from a list of movies\n",
    "def getMoviesWithGenre(genre_id, movies):\n",
    "    return [movie for movie in movies if getGenre(genre_id) in movie[\"genres\"]]"
   ]
  },
  {
   "cell_type": "code",
   "execution_count": null,
   "metadata": {
    "colab": {},
    "colab_type": "code",
    "id": "h_oGl8oAY4po"
   },
   "outputs": [],
   "source": [
    "# List of person with a job in a crew\n",
    "def getJobFrom(job, crew):\n",
    "    return [value for value in crew if value[\"job\"] == job]\n",
    "\n",
    "# List of works of someone in a crew or cast\n",
    "def getNameFrom(name, crew):\n",
    "    return [value for value in crew if value[\"name\"] == name]\n",
    "\n",
    "# Crew of a movie\n",
    "def getCrew(movie_id):\n",
    "    movie = getMovie(movie_id)\n",
    "    try:\n",
    "        return movie[\"credits\"][\"crew\"]\n",
    "    except:\n",
    "        return movie[\"status_message\"]  \n",
    "    \n",
    "# Cast of a movie\n",
    "def getCast(movie_id):\n",
    "    movie = getMovie(movie_id)\n",
    "    try:\n",
    "        return movie[\"credits\"][\"cast\"]\n",
    "    except:\n",
    "        return movie[\"status_message\"]"
   ]
  },
  {
   "cell_type": "code",
   "execution_count": null,
   "metadata": {
    "colab": {},
    "colab_type": "code",
    "id": "3Q5t1IMsl95e"
   },
   "outputs": [],
   "source": [
    "# Get the roles of someone in a list of movies\n",
    "def getRoles(name, movies):\n",
    "    return [(movie[\"title\"],cast[\"character\"]) for movie in movies for cast in movie[\"credits\"][\"cast\"] if cast[\"name\"] == name] \n",
    "\n",
    "# Get the people that has worked as a character in a list of movies\n",
    "def getCharacter(char, movies):\n",
    "    return [(movie[\"title\"],cast[\"name\"], cast[\"character\"]) for movie in movies for cast in movie[\"credits\"][\"cast\"] if char in cast[\"character\"]] \n",
    "\n",
    "# Get the movies that has worked as a character in a list of movies\n",
    "def getCharacter(char, movies):\n",
    "    return [(movie[\"title\"],cast[\"name\"], cast[\"character\"]) for movie in movies for cast in movie[\"credits\"][\"cast\"] if char in cast[\"character\"]] "
   ]
  },
  {
   "cell_type": "code",
   "execution_count": null,
   "metadata": {},
   "outputs": [],
   "source": [
    "def getNacionality(person_data):\n",
    "    try:\n",
    "        nacionality = re.split(', | - ', person_data[\"place_of_birth\"])[-1].strip()\n",
    "        nacionality = nacionality.replace(\"U.S.\", \"USA\")\n",
    "        nacionality = nacionality.replace(\"U.S.A.\", \"USA\")\n",
    "        nacionality = nacionality.replace(\"USAA.\", \"USA\")\n",
    "        nacionality = nacionality.replace(\"United States\", \"USA\")\n",
    "        nacionality = nacionality.replace(\"États-Unis\", \"USA\")\n",
    "        nacionality = nacionality.replace(\"Stati Uniti\", \"USA\")\n",
    "        nacionality = nacionality.replace(\"United Kingdom\", \"UK\")\n",
    "        nacionality = nacionality.replace(\"U.K.\", \"UK\")\n",
    "        \n",
    "        if(\"California\" in nacionality or nacionality == \"CA\"):\n",
    "            nacionality = \"USA\"\n",
    "        if(\" US\" in nacionality):\n",
    "            nacionality = \"USA\"\n",
    "        if(\"New York\" in nacionality or \"Long Island\" in nacionality or nacionality == \"NY\"):\n",
    "            nacionality = \"USA\"\n",
    "        if(\"USSR\" in nacionality):\n",
    "            nacionality = \"USSR\"\n",
    "        if(\"England\" in nacionality):\n",
    "            nacionality = \"UK\" \n",
    "    except:\n",
    "        nacionality = \"Unknown\"\n",
    "    return nacionality"
   ]
  },
  {
   "cell_type": "code",
   "execution_count": null,
   "metadata": {
    "colab": {},
    "colab_type": "code",
    "id": "ajLJAmcsGItk"
   },
   "outputs": [],
   "source": [
    "def create_graph(SEED, LAYER=2):\n",
    "  \n",
    "    todo_lst = [(0, SEED)] # The SEED is in the layer 0\n",
    "    todo_set = set(SEED) # The SEED itself\n",
    "    done_set = set() # Nothing is done yet\n",
    "\n",
    "    g = nx.Graph()\n",
    "    VALUE = 5.0\n",
    "    layer, person = todo_lst[0]\n",
    "\n",
    "    while layer < LAYER:\n",
    "        # Remove the name page of the current page from the todo_lst, \n",
    "        # and add it to the set of processed pages. \n",
    "        # If the script encounters this page again, it will skip over it.\n",
    "        del todo_lst[0]\n",
    "        done_set.add(person)\n",
    "\n",
    "        # Show progress\n",
    "        print(layer, person) \n",
    "\n",
    "        try:\n",
    "            person_data = getPerson(person[1])\n",
    "            if(person_data[\"popularity\"] < VALUE):\n",
    "                try:\n",
    "                    g.remove_node(person)\n",
    "                except:\n",
    "                    print(\"not in the graph yet\")\n",
    "                print(\"popularity under \" + str(VALUE) + \" skiping...\")\n",
    "                layer, person = todo_lst[0]\n",
    "                continue\n",
    "\n",
    "            g.add_node(person[0], nacionality = getNacionality(person_data))\n",
    "        except:\n",
    "            print(\"Could not load\", person)\n",
    "            layer, person = todo_lst[0]\n",
    "            continue\n",
    "\n",
    "        for movie in getJobFrom(\"Director\", person_data[\"movie_credits\"][\"crew\"]):\n",
    "            movie = getMovie(movie[\"id\"])\n",
    "            credits = movie[\"credits\"]\n",
    "            for actor in credits[\"cast\"]:\n",
    "                pair = (actor[\"name\"],actor[\"id\"])\n",
    "                data = getPerson(actor[\"id\"])\n",
    "\n",
    "                if data[\"popularity\"] >= VALUE and pair not in todo_set and pair not in done_set:\n",
    "                    todo_lst.append((layer + 1, pair))\n",
    "                    todo_set.add(pair)\n",
    "                g.add_node(pair[0], nacionality = getNacionality(data))\n",
    "                g.add_edge(person[0], pair[0], relation=\"director-actor\")\n",
    "\n",
    "\n",
    "        for movie in person_data[\"movie_credits\"][\"cast\"]:\n",
    "            movie = getMovie(movie[\"id\"])\n",
    "            credits = movie[\"credits\"]\n",
    "            for actor in credits[\"cast\"]:\n",
    "                pair = (actor[\"name\"],actor[\"id\"])\n",
    "                data = getPerson(actor[\"id\"])\n",
    "\n",
    "                if data[\"popularity\"] >= VALUE and pair not in todo_set and pair not in done_set:\n",
    "                    todo_lst.append((layer + 1, pair))\n",
    "                    todo_set.add(pair)\n",
    "                g.add_node(pair[0], nacionality = getNacionality(data))\n",
    "                g.add_edge(person[0], pair[0], relation=\"actor-actor\")\n",
    "\n",
    "            directors_of_film = getJobFrom(\"Director\",credits[\"crew\"])\n",
    "            for actor in directors_of_film:\n",
    "                pair = (actor[\"name\"],actor[\"id\"])\n",
    "                data = getPerson(actor[\"id\"])\n",
    "                if data[\"popularity\"] >= VALUE and pair not in todo_set and pair not in done_set:\n",
    "                    todo_lst.append((layer + 1, pair))\n",
    "                    todo_set.add(pair)\n",
    "                g.add_node(pair[0], nacionality = getNacionality(data))\n",
    "                g.add_edge(person[0], pair[0], relation=\"director-actor\")  \n",
    "\n",
    "        layer, person = todo_lst[0]\n",
    "\n",
    "    return g"
   ]
  },
  {
   "cell_type": "code",
   "execution_count": null,
   "metadata": {
    "colab": {},
    "colab_type": "code",
    "id": "0Kf7Tu1w7BWS"
   },
   "outputs": [],
   "source": [
    "def create_graph_simple(SEED):\n",
    "\n",
    "    todo_lst = []\n",
    "    done_set = set(SEED)\n",
    "\n",
    "    g = nx.Graph()\n",
    "    VALUE = 5.0\n",
    "\n",
    "    try:\n",
    "        person_data = getPerson(SEED[1])\n",
    "\n",
    "        g.add_node(SEED[0], nacionality = getNacionality(person_data))\n",
    "    except:\n",
    "        print(SEED[0] + \" not found\")\n",
    "        return\n",
    "\n",
    "    as_director = getJobFrom(\"Director\", person_data[\"movie_credits\"][\"crew\"])\n",
    "    for movie in as_director:\n",
    "        movie = getMovie(movie[\"id\"])\n",
    "        try:\n",
    "            credits = movie[\"credits\"]\n",
    "        except:\n",
    "            continue\n",
    "        for actor in credits[\"cast\"]:\n",
    "            pair = (actor[\"name\"],actor[\"id\"])\n",
    "            if pair not in done_set:\n",
    "                data = getPerson(pair[1])\n",
    "                if(data[\"popularity\"] >= VALUE):\n",
    "                    print(pair)\n",
    "                    done_set.add(pair)\n",
    "                    todo_lst.append(pair)\n",
    "                    g.add_node(pair[0], nacionality = getNacionality(data))\n",
    "                    g.add_edge(SEED[0], pair[0], relation=\"director-actor\")\n",
    "\n",
    "    counter = 0\n",
    "    for movie in person_data[\"movie_credits\"][\"cast\"]:\n",
    "        counter += 1\n",
    "        movie = getMovie(movie[\"id\"])\n",
    "        try:\n",
    "            credits = movie[\"credits\"]\n",
    "        except:\n",
    "            continue\n",
    "        for actor in credits[\"cast\"]:\n",
    "            pair = (actor[\"name\"],actor[\"id\"])\n",
    "            if pair not in done_set:\n",
    "                data = getPerson(pair[1])\n",
    "                if(data[\"popularity\"] >= VALUE):\n",
    "                    print(pair)\n",
    "                    done_set.add(pair)\n",
    "                    todo_lst.append(pair)\n",
    "                    g.add_node(pair[0], nacionality = getNacionality(data))\n",
    "                    g.add_edge(SEED[0], pair[0], relation=\"actor-actor\")\n",
    "\n",
    "        directors_of_film = getJobFrom(\"Director\",credits[\"crew\"])\n",
    "        for director in directors_of_film:\n",
    "            pair = (director[\"name\"],director[\"id\"])\n",
    "            if pair not in done_set:\n",
    "                data = getPerson(pair[1])\n",
    "                if(data[\"popularity\"] >= VALUE):\n",
    "                    print(pair)\n",
    "                    done_set.add(pair)\n",
    "                    todo_lst.append(pair)\n",
    "                    g.add_node(pair[0], nacionality = getNacionality(data))\n",
    "                    g.add_edge(SEED[0], pair[0], relation=\"director-actor\")\n",
    "                    \n",
    "    for person in todo_lst:\n",
    "        neigh_set = set()\n",
    "        try:\n",
    "            person_data = getPerson(person[1])\n",
    "            print(person[0] + \" relations\")\n",
    "        except:\n",
    "            print(person[0] + \" not found\")\n",
    "            continue\n",
    "\n",
    "        as_director = getJobFrom(\"Director\", person_data[\"movie_credits\"][\"crew\"])\n",
    "        for movie in as_director:\n",
    "            movie = getMovie(movie[\"id\"])\n",
    "            try:\n",
    "                credits = movie[\"credits\"]\n",
    "            except:\n",
    "                continue\n",
    "            for actor in credits[\"cast\"]:\n",
    "                pair = (actor[\"name\"],actor[\"id\"])\n",
    "                if pair in done_set and pair not in neigh_set:\n",
    "                    neigh_set.add(pair)\n",
    "                    g.add_edge(person[0], pair[0], relation=\"director-actor\")\n",
    "        \n",
    "        neigh_set = set()\n",
    "        neigh_set_dir = set()\n",
    "        for movie in person_data[\"movie_credits\"][\"cast\"]:\n",
    "            movie = getMovie(movie[\"id\"])\n",
    "            try:\n",
    "                credits = movie[\"credits\"]\n",
    "            except:\n",
    "                continue\n",
    "            for actor in credits[\"cast\"]:\n",
    "                pair = (actor[\"name\"],actor[\"id\"])\n",
    "                if pair in done_set and pair not in neigh_set:\n",
    "                    neigh_set.add(pair)\n",
    "                    g.add_edge(person[0], pair[0], relation=\"actor-actor\")\n",
    "            directors_of_film = getJobFrom(\"Director\",credits[\"crew\"])\n",
    "            for actor in directors_of_film:\n",
    "                pair = (actor[\"name\"],actor[\"id\"])\n",
    "                if pair in done_set and pair not in neigh_set_dir:\n",
    "                    neigh_set_dir.add(pair)\n",
    "                    g.add_edge(person[0], pair[0], relation=\"director-actor\")\n",
    "                    \n",
    "    return g"
   ]
  },
  {
   "cell_type": "code",
   "execution_count": null,
   "metadata": {
    "colab": {},
    "colab_type": "code",
    "id": "RKrDR1E7Jeni"
   },
   "outputs": [],
   "source": [
    "def save_core_graph(name, g):\n",
    "    # filter nodes with degree greater than or equal to 2\n",
    "    core = [node for node, deg in dict(g.degree()).items() if deg >= 3]\n",
    "\n",
    "    # select a subgraph with 'core' nodes\n",
    "    gsub = nx.subgraph(g, core)\n",
    "\n",
    "    print(\"{} nodes, {} edges\".format(len(gsub), nx.number_of_edges(gsub)))\n",
    "\n",
    "    nx.write_graphml(gsub, name+\".graphml\")\n",
    "    return gsub"
   ]
  },
  {
   "cell_type": "code",
   "execution_count": null,
   "metadata": {
    "colab": {},
    "colab_type": "code",
    "id": "1vw_Vh-4T7K4"
   },
   "outputs": [],
   "source": [
    "def show_top_degrees(graph):\n",
    "    top_degree = sorted(dict(graph.degree()).items(), reverse=True, key=itemgetter(1))[:100]\n",
    "    print(\"\\n\".join(map(lambda t: \"{} {}\".format(*reversed(t)), top_degree)))"
   ]
  },
  {
   "cell_type": "code",
   "execution_count": null,
   "metadata": {
    "colab": {},
    "colab_type": "code",
    "id": "BpFYDCARt6Ws"
   },
   "outputs": [],
   "source": [
    "%%time\n",
    "quentin_tarantino = (\"Quentin Tarantino\", searchPerson(\"Quentin Tarantino\")[\"results\"][0][\"id\"])\n",
    "graph = create_graph(quentin_tarantino)\n",
    "graph = save_core_graph(quentin_tarantino[0], graph)"
   ]
  },
  {
   "cell_type": "code",
   "execution_count": null,
   "metadata": {
    "colab": {},
    "colab_type": "code",
    "id": "kyftlcN8bKe6"
   },
   "outputs": [],
   "source": [
    "pulp_fiction = (\"Pulp Fiction\", searchMovie(\"Pulp Fiction\")[0][\"id\"])"
   ]
  },
  {
   "cell_type": "code",
   "execution_count": null,
   "metadata": {
    "colab": {},
    "colab_type": "code",
    "id": "SzU_xN4tg9GY"
   },
   "outputs": [],
   "source": [
    "movie_data = getMovie(pulp_fiction[1])"
   ]
  },
  {
   "cell_type": "code",
   "execution_count": null,
   "metadata": {
    "colab": {
     "base_uri": "https://localhost:8080/",
     "height": 1776074
    },
    "colab_type": "code",
    "id": "xF5bUmvUhQg0",
    "outputId": "7cf00148-dac0-474c-a4c9-94b6c16aa3b9"
   },
   "outputs": [],
   "source": [
    "%%time\n",
    "for person in movie_data[\"credits\"][\"cast\"]:\n",
    "    person_data = getPerson(person[\"id\"])\n",
    "    if(person_data[\"popularity\"] >= 5):\n",
    "        pair = (person_data[\"name\"], person_data[\"id\"])\n",
    "        print(\"Searching \" + str(pair))\n",
    "        graph = create_graph_simple(pair)\n",
    "        nx.write_graphml(graph, pair[0]+\".graphml\")\n",
    "        print(\"Saved! \" + str(pair))"
   ]
  },
  {
   "cell_type": "code",
   "execution_count": null,
   "metadata": {
    "colab": {},
    "colab_type": "code",
    "id": "rZumkuGh1CAK"
   },
   "outputs": [],
   "source": [
    "# Saving data\n",
    "IDMovies.to_csv(\"IDMovies.csv\")\n",
    "IDPeople.to_csv(\"IDPeople.csv\")"
   ]
  },
  {
   "cell_type": "code",
   "execution_count": null,
   "metadata": {},
   "outputs": [],
   "source": []
  }
 ],
 "metadata": {
  "colab": {
   "collapsed_sections": [],
   "name": "themoviedb",
   "provenance": [],
   "version": "0.3.2"
  },
  "kernelspec": {
   "display_name": "Python 3",
   "language": "python",
   "name": "python3"
  },
  "language_info": {
   "codemirror_mode": {
    "name": "ipython",
    "version": 3
   },
   "file_extension": ".py",
   "mimetype": "text/x-python",
   "name": "python",
   "nbconvert_exporter": "python",
   "pygments_lexer": "ipython3",
   "version": "3.7.3"
  }
 },
 "nbformat": 4,
 "nbformat_minor": 1
}
