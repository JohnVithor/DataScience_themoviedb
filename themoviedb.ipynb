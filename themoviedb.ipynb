{
  "nbformat": 4,
  "nbformat_minor": 0,
  "metadata": {
    "colab": {
      "name": "themoviedb",
      "version": "0.3.2",
      "provenance": [],
      "collapsed_sections": []
    },
    "kernelspec": {
      "name": "python3",
      "display_name": "Python 3"
    }
  },
  "cells": [
    {
      "cell_type": "code",
      "metadata": {
        "id": "ts6lEj2Xb03P",
        "colab_type": "code",
        "colab": {
          "base_uri": "https://localhost:8080/",
          "height": 156
        },
        "outputId": "29185a9a-4416-4154-ccf6-1e1c8f32d80e"
      },
      "source": [
        "!pip install ratelimit"
      ],
      "execution_count": 75,
      "outputs": [
        {
          "output_type": "stream",
          "text": [
            "Collecting ratelimit\n",
            "  Downloading https://files.pythonhosted.org/packages/ab/38/ff60c8fc9e002d50d48822cc5095deb8ebbc5f91a6b8fdd9731c87a147c9/ratelimit-2.2.1.tar.gz\n",
            "Building wheels for collected packages: ratelimit\n",
            "  Building wheel for ratelimit (setup.py) ... \u001b[?25l\u001b[?25hdone\n",
            "  Stored in directory: /root/.cache/pip/wheels/05/d9/82/3c6044cf1a54aab9151612458446d9b17a38416869e1b1d9b8\n",
            "Successfully built ratelimit\n",
            "Installing collected packages: ratelimit\n",
            "Successfully installed ratelimit-2.2.1\n"
          ],
          "name": "stdout"
        }
      ]
    },
    {
      "cell_type": "code",
      "metadata": {
        "id": "Mt83DRYTNb0t",
        "colab_type": "code",
        "colab": {}
      },
      "source": [
        "import pandas as pd\n",
        "import requests\n",
        "import json\n",
        "import numpy as np \n",
        "from ratelimit import limits, sleep_and_retry"
      ],
      "execution_count": 0,
      "outputs": []
    },
    {
      "cell_type": "code",
      "metadata": {
        "id": "IjSQEmQ_Vk5G",
        "colab_type": "code",
        "colab": {}
      },
      "source": [
        "api_key = ''\n",
        "\n",
        "SearchPeople = pd.DataFrame.from_dict({\"data\":[]})\n",
        "SearchMovies = pd.DataFrame.from_dict({\"data\":[]})\n",
        "\n",
        "IDPeople = pd.DataFrame.from_dict({\"data\":[]})\n",
        "IDMovies = pd.DataFrame.from_dict({\"data\":[]})"
      ],
      "execution_count": 0,
      "outputs": []
    },
    {
      "cell_type": "code",
      "metadata": {
        "id": "7tLYBbVicRYN",
        "colab_type": "code",
        "colab": {}
      },
      "source": [
        "# The official limit is \n",
        "# 40 request per 10 seconds\n",
        "\n",
        "TWO_SECOND = 2\n",
        "\n",
        "@sleep_and_retry\n",
        "@limits(calls=7, period=TWO_SECOND)\n",
        "def call_api(url):\n",
        "    response = requests.get(url)\n",
        "    if response.status_code == 429:\n",
        "        raise Exception('API response: {}'.format(response.status_code))\n",
        "    return response"
      ],
      "execution_count": 0,
      "outputs": []
    },
    {
      "cell_type": "code",
      "metadata": {
        "id": "33CN-YjiXIXQ",
        "colab_type": "code",
        "colab": {}
      },
      "source": [
        "# Search a person\n",
        "def searchPerson(person):\n",
        "  global SearchPeople\n",
        "  try:\n",
        "    return SearchPeople.loc[person,\"data\"]\n",
        "  except: \n",
        "    url = \"https://api.themoviedb.org/3/search/person?api_key=\"+api_key+\"&query=\\\"\"+person+\"\\\"\"\n",
        "    response = call_api(url)\n",
        "    data = response.json()\n",
        "    SearchPeople = SearchPeople.append(pd.Series({'data':data},name=person))\n",
        "    return data\n",
        "# Search a movie\n",
        "def searchMovie(movie):\n",
        "  global SearchMovies\n",
        "  try:\n",
        "    return SearchMovies.loc[movie,\"data\"]\n",
        "  except: \n",
        "    url = \"https://api.themoviedb.org/3/search/movie?api_key=\"+api_key+\"&query=\\\"\"+movie+\"\\\"\"\n",
        "    response = call_api(url)\n",
        "    data = response.json()\n",
        "    SearchMovies = SearchMovies.append(pd.Series({'data':data},name=movie))\n",
        "    return data"
      ],
      "execution_count": 0,
      "outputs": []
    },
    {
      "cell_type": "code",
      "metadata": {
        "id": "TxBY_IjrNhL4",
        "colab_type": "code",
        "colab": {}
      },
      "source": [
        "# Person and movie credits\n",
        "def getPerson(person_id):\n",
        "  global IDPeople\n",
        "  try:\n",
        "    return IDPeople.loc[person_id,\"data\"]\n",
        "  except: \n",
        "    url = \"https://api.themoviedb.org/3/person/\"+str(person_id)+\"?api_key=\"+api_key+\"&append_to_response=movie_credits\"\n",
        "    response = call_api(url)\n",
        "    data = response.json()\n",
        "    IDPeople = IDPeople.append(pd.Series({'data':data},name=person_id))\n",
        "    return data\n",
        "\n",
        "# Movie and credits\n",
        "def getMovie(movie_id):\n",
        "  global IDMovies\n",
        "  try:\n",
        "    return IDMovies.loc[movie_id,\"data\"]\n",
        "  except: \n",
        "    url = \"https://api.themoviedb.org/3/movie/\"+str(movie_id)+\"?api_key=\"+api_key+\"&append_to_response=credits\"\n",
        "    response = call_api(url)\n",
        "    data = response.json()\n",
        "    IDMovies = IDMovies.append(pd.Series({'data':data},name=movie_id))\n",
        "    return data"
      ],
      "execution_count": 0,
      "outputs": []
    },
    {
      "cell_type": "code",
      "metadata": {
        "id": "h_oGl8oAY4po",
        "colab_type": "code",
        "colab": {}
      },
      "source": [
        "# List of person with a job in a crew\n",
        "def getJobFrom(job, crew):\n",
        "  return [value for value in crew if value[\"job\"] == job]\n",
        "\n",
        "def getNameFrom(name, crew):\n",
        "  return [value for value in crew if value[\"name\"] == name]\n",
        "\n",
        "# Crew of a movie\n",
        "def getCrew(movie_id):\n",
        "  movie = getMovie(movie_id)\n",
        "  try:\n",
        "    return [value for value in movie[\"credits\"][\"crew\"]]\n",
        "  except:\n",
        "    return movie[\"status_message\"]  \n",
        "  \n",
        "# Cast of a movie\n",
        "def getCast(movie_id):\n",
        "  movie = getMovie(movie_id)\n",
        "  try:\n",
        "    return [value for value in movie[\"credits\"][\"cast\"]]\n",
        "  except:\n",
        "    return movie[\"status_message\"]"
      ],
      "execution_count": 0,
      "outputs": []
    },
    {
      "cell_type": "code",
      "metadata": {
        "id": "SP3hKBMlq3GK",
        "colab_type": "code",
        "colab": {}
      },
      "source": [
        "crew = getPerson(searchPerson(\"Stan Lee\")[\"results\"][0][\"id\"])[\"movie_credits\"][\"crew\"]\n",
        "movies_ids = [movie[\"id\"] for movie in crew]\n",
        "movies_ids = np.unique(np.array(movies_ids))"
      ],
      "execution_count": 0,
      "outputs": []
    },
    {
      "cell_type": "code",
      "metadata": {
        "id": "AgYs_5f4VWOp",
        "colab_type": "code",
        "colab": {}
      },
      "source": [
        "director = searchPerson(\"Stan Lee\")[\"results\"][0]"
      ],
      "execution_count": 0,
      "outputs": []
    },
    {
      "cell_type": "code",
      "metadata": {
        "id": "A2-Sg420iUAJ",
        "colab_type": "code",
        "colab": {}
      },
      "source": [
        "movies = [getMovie(movie) for movie in movies_ids]"
      ],
      "execution_count": 0,
      "outputs": []
    },
    {
      "cell_type": "code",
      "metadata": {
        "id": "3Q5t1IMsl95e",
        "colab_type": "code",
        "colab": {}
      },
      "source": [
        "some_people = [(cast[\"name\"]) for movie in movies for cast in movie[\"credits\"][\"cast\"]] \n",
        "\n",
        "def getRoles(name, movies):\n",
        "  return [(movie[\"title\"],cast[\"character\"]) for movie in movies for cast in movie[\"credits\"][\"cast\"] if cast[\"name\"] == name] \n",
        "\n",
        "def getCharacter(char, movies):\n",
        "  return [(movie[\"title\"],cast[\"name\"], cast[\"character\"]) for movie in movies for cast in movie[\"credits\"][\"cast\"] if char in cast[\"character\"]] "
      ],
      "execution_count": 0,
      "outputs": []
    },
    {
      "cell_type": "code",
      "metadata": {
        "id": "0_BCuZqxzYu_",
        "colab_type": "code",
        "colab": {
          "base_uri": "https://localhost:8080/",
          "height": 243
        },
        "outputId": "c9d3a86a-d857-4c98-8d29-2f83802f06c0"
      },
      "source": [
        "getRoles(\"Chris Evans\", movies)"
      ],
      "execution_count": 220,
      "outputs": [
        {
          "output_type": "execute_result",
          "data": {
            "text/plain": [
              "[('Captain America: The First Avenger', 'Steve Rogers / Captain America'),\n",
              " ('Fantastic Four: Rise of the Silver Surfer', 'Johnny Storm / Human Torch'),\n",
              " ('Fantastic Four', 'Johnny Storm / Human Torch'),\n",
              " ('The Avengers', 'Steve Rogers / Captain America'),\n",
              " ('Thor: The Dark World', 'Loki as Captain America (uncredited)'),\n",
              " ('Avengers: Age of Ultron', 'Steve Rogers / Captain America'),\n",
              " ('Captain America: The Winter Soldier', 'Steve Rogers / Captain America'),\n",
              " ('Ant-Man', 'Steve Rogers / Captain America (uncredited)'),\n",
              " ('Captain America: Civil War', 'Steve Rogers / Captain America'),\n",
              " ('Avengers: Endgame', 'Steve Rogers / Captain America'),\n",
              " ('Avengers: Infinity War', 'Steve Rogers / Captain America'),\n",
              " ('Captain Marvel', 'Steve Rogers / Captain America (uncredited)'),\n",
              " ('Spider-Man: Homecoming', 'Steve Rogers / Captain America')]"
            ]
          },
          "metadata": {
            "tags": []
          },
          "execution_count": 220
        }
      ]
    },
    {
      "cell_type": "code",
      "metadata": {
        "id": "Kf3CAVGEnImF",
        "colab_type": "code",
        "colab": {
          "base_uri": "https://localhost:8080/",
          "height": 208
        },
        "outputId": "513a7e06-457e-4c87-a76c-8cbc58276a0d"
      },
      "source": [
        "pd.Series(some_people).value_counts().head(10)"
      ],
      "execution_count": 218,
      "outputs": [
        {
          "output_type": "execute_result",
          "data": {
            "text/plain": [
              "Stan Lee              47\n",
              "Chris Evans           13\n",
              "Samuel L. Jackson     11\n",
              "Hugh Jackman          11\n",
              "Robert Downey Jr.     10\n",
              "Fred Tatasciore        9\n",
              "Chris Hemsworth        9\n",
              "Gwyneth Paltrow        8\n",
              "Mark Ruffalo           8\n",
              "Scarlett Johansson     8\n",
              "dtype: int64"
            ]
          },
          "metadata": {
            "tags": []
          },
          "execution_count": 218
        }
      ]
    },
    {
      "cell_type": "code",
      "metadata": {
        "id": "4pQHDc2zqnPJ",
        "colab_type": "code",
        "colab": {}
      },
      "source": [
        "batman_movies_ids = [movie[\"id\"] for movie in searchMovie(\"Batman\")[\"results\"]]\n",
        "batman_movies_ids = np.unique(np.array(batman_movies_ids))\n",
        "batman_movies = [getMovie(movie) for movie in batman_movies_ids]\n",
        "\n",
        "batman_cast = [(cast[\"name\"]) for movie in batman_movies for cast in movie[\"credits\"][\"cast\"]] \n"
      ],
      "execution_count": 0,
      "outputs": []
    },
    {
      "cell_type": "code",
      "metadata": {
        "id": "nkkLZ8wn2q2y",
        "colab_type": "code",
        "colab": {
          "base_uri": "https://localhost:8080/",
          "height": 434
        },
        "outputId": "25184f30-81d6-49e5-e997-de34e1cdb708"
      },
      "source": [
        "getCharacter(\"Batman\", batman_movies)"
      ],
      "execution_count": 236,
      "outputs": [
        {
          "output_type": "execute_result",
          "data": {
            "text/plain": [
              "[('Batman', 'Michael Keaton', 'Bruce Wayne / Batman'),\n",
              " ('Batman Begins', 'Christian Bale', 'Bruce Wayne / Batman'),\n",
              " ('Batman Returns', 'Michael Keaton', 'Bruce Wayne / Batman'),\n",
              " ('Batman Forever', 'Val Kilmer', 'Bruce Wayne / Batman'),\n",
              " ('Batman & Robin', 'George Clooney', 'Bruce Wayne / Batman'),\n",
              " ('Batman', 'Adam West', 'Batman / Bruce Wayne'),\n",
              " ('Superman/Batman: Public Enemies',\n",
              "  'Kevin Conroy',\n",
              "  'Batman / Bruce Wayne (voice)'),\n",
              " ('Batman: Year One', 'Ben McKenzie', 'Batman/Bruce Wayne (voice)'),\n",
              " ('Batman', 'Lewis Wilson', 'Bruce Wayne, aka Batman'),\n",
              " ('Batman v Superman: Dawn of Justice', 'Ben Affleck', 'Bruce Wayne / Batman'),\n",
              " ('Batman: Assault on Arkham', 'Kevin Conroy', 'Batman / Bruce Wayne (voice)'),\n",
              " ('Batman vs. Robin', \"Jason O'Mara\", 'Bruce Wayne / Batman (voice)'),\n",
              " ('The Lego Batman Movie', 'Will Arnett', 'Batman / Bruce Wayne (voice)'),\n",
              " ('Batman: Bad Blood', \"Jason O'Mara\", 'Batman / Bruce Wayne (voice)'),\n",
              " ('Batman: The Killing Joke', 'Kevin Conroy', 'Bruce Wayne / Batman (voice)'),\n",
              " ('Batman and Harley Quinn', 'Kevin Conroy', 'Batman / Bruce Wayne (voice)'),\n",
              " ('The Batman', 'Robert Pattinson', 'Bruce Wayne / Batman'),\n",
              " ('Batman: Gotham by Gaslight',\n",
              "  'Bruce Greenwood',\n",
              "  'Bruce Wayne / Batman (voice)'),\n",
              " ('Batman Ninja', 'Kouichi Yamadera', 'Batman / Bruce Wayne (voice)'),\n",
              " ('Batman: Hush', \"Jason O'Mara\", 'Bruce Wayne / Batman (voice)')]"
            ]
          },
          "metadata": {
            "tags": []
          },
          "execution_count": 236
        }
      ]
    }
  ]
}