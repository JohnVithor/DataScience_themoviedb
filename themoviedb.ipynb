{
  "nbformat": 4,
  "nbformat_minor": 0,
  "metadata": {
    "colab": {
      "name": "themoviedb",
      "version": "0.3.2",
      "provenance": [],
      "collapsed_sections": []
    },
    "kernelspec": {
      "name": "python3",
      "display_name": "Python 3"
    }
  },
  "cells": [
    {
      "cell_type": "code",
      "metadata": {
        "id": "ts6lEj2Xb03P",
        "colab_type": "code",
        "outputId": "8ecebc0c-d3f0-4474-e135-69d42b0732c4",
        "colab": {
          "base_uri": "https://localhost:8080/",
          "height": 176
        }
      },
      "source": [
        "!pip install ratelimit"
      ],
      "execution_count": 1,
      "outputs": [
        {
          "output_type": "stream",
          "text": [
            "Collecting ratelimit\n",
            "  Downloading https://files.pythonhosted.org/packages/ab/38/ff60c8fc9e002d50d48822cc5095deb8ebbc5f91a6b8fdd9731c87a147c9/ratelimit-2.2.1.tar.gz\n",
            "Building wheels for collected packages: ratelimit\n",
            "  Building wheel for ratelimit (setup.py) ... \u001b[?25l\u001b[?25hdone\n",
            "  Stored in directory: /root/.cache/pip/wheels/05/d9/82/3c6044cf1a54aab9151612458446d9b17a38416869e1b1d9b8\n",
            "Successfully built ratelimit\n",
            "Installing collected packages: ratelimit\n",
            "Successfully installed ratelimit-2.2.1\n"
          ],
          "name": "stdout"
        }
      ]
    },
    {
      "cell_type": "code",
      "metadata": {
        "id": "Mt83DRYTNb0t",
        "colab_type": "code",
        "colab": {}
      },
      "source": [
        "import pandas as pd\n",
        "import requests\n",
        "import json\n",
        "import numpy as np \n",
        "from ratelimit import limits, sleep_and_retry"
      ],
      "execution_count": 0,
      "outputs": []
    },
    {
      "cell_type": "code",
      "metadata": {
        "id": "IjSQEmQ_Vk5G",
        "colab_type": "code",
        "colab": {}
      },
      "source": [
        "api_key = ''\n",
        "api_url = 'https://api.themoviedb.org/3/'\n",
        "SearchPeople = pd.DataFrame.from_dict({\"data\":[]})\n",
        "SearchMovies = pd.DataFrame.from_dict({\"data\":[]})\n",
        "\n",
        "IDPeople = pd.DataFrame.from_dict({\"data\":[]})\n",
        "IDMovies = pd.DataFrame.from_dict({\"data\":[]})\n",
        "\n",
        "MovieGenres = [] "
      ],
      "execution_count": 0,
      "outputs": []
    },
    {
      "cell_type": "code",
      "metadata": {
        "id": "7tLYBbVicRYN",
        "colab_type": "code",
        "colab": {}
      },
      "source": [
        "# The official limit is \n",
        "# 40 request per 10 seconds\n",
        "\n",
        "TEN_SECONDS = 10\n",
        "REQUESTS = 39\n",
        "\n",
        "@sleep_and_retry\n",
        "@limits(calls=REQUESTS, period=TEN_SECONDS)\n",
        "def call_api(url):\n",
        "    response = requests.get(url)\n",
        "    if response.status_code == 429:\n",
        "        raise Exception('API response: {}'.format(response.status_code))\n",
        "    return response\n",
        "  \n",
        "MovieGenres = call_api(api_url+\"genre/movie/list?api_key=\"+api_key).json()['genres']"
      ],
      "execution_count": 0,
      "outputs": []
    },
    {
      "cell_type": "code",
      "metadata": {
        "id": "ZauK6DAAq88v",
        "colab_type": "code",
        "colab": {
          "base_uri": "https://localhost:8080/",
          "height": 347
        },
        "outputId": "49c56fbd-d2cf-4068-c219-e728f63a7446"
      },
      "source": [
        "MovieGenres"
      ],
      "execution_count": 5,
      "outputs": [
        {
          "output_type": "execute_result",
          "data": {
            "text/plain": [
              "[{'id': 28, 'name': 'Action'},\n",
              " {'id': 12, 'name': 'Adventure'},\n",
              " {'id': 16, 'name': 'Animation'},\n",
              " {'id': 35, 'name': 'Comedy'},\n",
              " {'id': 80, 'name': 'Crime'},\n",
              " {'id': 99, 'name': 'Documentary'},\n",
              " {'id': 18, 'name': 'Drama'},\n",
              " {'id': 10751, 'name': 'Family'},\n",
              " {'id': 14, 'name': 'Fantasy'},\n",
              " {'id': 36, 'name': 'History'},\n",
              " {'id': 27, 'name': 'Horror'},\n",
              " {'id': 10402, 'name': 'Music'},\n",
              " {'id': 9648, 'name': 'Mystery'},\n",
              " {'id': 10749, 'name': 'Romance'},\n",
              " {'id': 878, 'name': 'Science Fiction'},\n",
              " {'id': 10770, 'name': 'TV Movie'},\n",
              " {'id': 53, 'name': 'Thriller'},\n",
              " {'id': 10752, 'name': 'War'},\n",
              " {'id': 37, 'name': 'Western'}]"
            ]
          },
          "metadata": {
            "tags": []
          },
          "execution_count": 5
        }
      ]
    },
    {
      "cell_type": "code",
      "metadata": {
        "id": "33CN-YjiXIXQ",
        "colab_type": "code",
        "colab": {}
      },
      "source": [
        "# Search a person\n",
        "def searchPerson(person):\n",
        "  global SearchPeople\n",
        "  try:\n",
        "    return SearchPeople.loc[person,\"data\"]\n",
        "  except: \n",
        "    url = api_url+\"search/person?api_key=\"+api_key+\"&query=\\\"\"+person+\"\\\"\"\n",
        "    response = call_api(url)\n",
        "    data = response.json()\n",
        "    SearchPeople = SearchPeople.append(pd.Series({'data':data},name=person))\n",
        "    return data\n",
        "# Search a movie\n",
        "def searchMovie(movie):\n",
        "  global SearchMovies\n",
        "  try:\n",
        "    return SearchMovies.loc[movie,\"data\"]\n",
        "  except:\n",
        "    page = 1\n",
        "    data = {}\n",
        "    url = api_url+\"search/movie?api_key=\"+api_key+\"&query=\\\"\"+movie+\"\\\"&page=\"+str(page)\n",
        "    response = call_api(url).json()\n",
        "    data[page] = response[\"results\"]\n",
        "    total_pages = response[\"total_pages\"]\n",
        "    page += 1\n",
        "    \n",
        "    while(page <= total_pages):\n",
        "      url = api_url+\"search/movie?api_key=\"+api_key+\"&query=\\\"\"+movie+\"\\\"&page=\"+str(page)\n",
        "      response = call_api(url).json()\n",
        "      data[page] = response[\"results\"]\n",
        "      page += 1\n",
        "      \n",
        "    \n",
        "    results = [result for page in data.values() for result in page]\n",
        "    SearchMovies = SearchMovies.append(pd.Series({'data':results},name=movie))\n",
        "    return results"
      ],
      "execution_count": 0,
      "outputs": []
    },
    {
      "cell_type": "code",
      "metadata": {
        "id": "TxBY_IjrNhL4",
        "colab_type": "code",
        "colab": {}
      },
      "source": [
        "# Person and movie credits\n",
        "def getPerson(person_id):\n",
        "  global IDPeople\n",
        "  try:\n",
        "    return IDPeople.loc[person_id,\"data\"]\n",
        "  except: \n",
        "    url = api_url+\"person/\"+str(person_id)+\"?api_key=\"+api_key+\"&append_to_response=movie_credits\"\n",
        "    response = call_api(url)\n",
        "    data = response.json()\n",
        "    IDPeople = IDPeople.append(pd.Series({'data':data},name=person_id))\n",
        "    return data\n",
        "\n",
        "# Movie and credits\n",
        "def getMovie(movie_id):\n",
        "  global IDMovies\n",
        "  try:\n",
        "    return IDMovies.loc[movie_id,\"data\"]\n",
        "  except: \n",
        "    url = api_url+\"movie/\"+str(movie_id)+\"?api_key=\"+api_key+\"&append_to_response=credits\"\n",
        "    response = call_api(url)\n",
        "    data = response.json()\n",
        "    IDMovies = IDMovies.append(pd.Series({'data':data},name=movie_id))\n",
        "    return data"
      ],
      "execution_count": 0,
      "outputs": []
    },
    {
      "cell_type": "code",
      "metadata": {
        "id": "2Og4Ugr5sEDE",
        "colab_type": "code",
        "colab": {}
      },
      "source": [
        "# Get the genre object from the genre_id\n",
        "def getGenre(genre_id):\n",
        "  return [genre for genre in MovieGenres if genre[\"id\"] == genre_id][0]\n",
        "\n",
        "# get the movies with a genre from a list of movies\n",
        "def getMoviesWithGenre(genre_id, movies):\n",
        "  return [movie for movie in movies if getGenre(genre_id) in movie[\"genres\"]]"
      ],
      "execution_count": 0,
      "outputs": []
    },
    {
      "cell_type": "code",
      "metadata": {
        "id": "h_oGl8oAY4po",
        "colab_type": "code",
        "colab": {}
      },
      "source": [
        "# List of person with a job in a crew\n",
        "def getJobFrom(job, crew):\n",
        "  return [value for value in crew if value[\"job\"] == job]\n",
        "\n",
        "# List of works of someone in a crew or cast\n",
        "def getNameFrom(name, crew):\n",
        "  return [value for value in crew if value[\"name\"] == name]\n",
        "\n",
        "# Crew of a movie\n",
        "def getCrew(movie_id):\n",
        "  movie = getMovie(movie_id)\n",
        "  try:\n",
        "    return movie[\"credits\"][\"crew\"]\n",
        "  except:\n",
        "    return movie[\"status_message\"]  \n",
        "  \n",
        "# Cast of a movie\n",
        "def getCast(movie_id):\n",
        "  movie = getMovie(movie_id)\n",
        "  try:\n",
        "    return movie[\"credits\"][\"cast\"]\n",
        "  except:\n",
        "    return movie[\"status_message\"]"
      ],
      "execution_count": 0,
      "outputs": []
    },
    {
      "cell_type": "code",
      "metadata": {
        "id": "3Q5t1IMsl95e",
        "colab_type": "code",
        "colab": {}
      },
      "source": [
        "# Get the roles of someone in a list of movies\n",
        "def getRoles(name, movies):\n",
        "  return [(movie[\"title\"],cast[\"character\"]) for movie in movies for cast in movie[\"credits\"][\"cast\"] if cast[\"name\"] == name] \n",
        "\n",
        "# Get the people that has worked as a character in a list of movies\n",
        "def getCharacter(char, movies):\n",
        "  return [(movie[\"title\"],cast[\"name\"], cast[\"character\"]) for movie in movies for cast in movie[\"credits\"][\"cast\"] if char in cast[\"character\"]] \n",
        "\n",
        "# Get the movies that has worked as a character in a list of movies\n",
        "def getCharacter(char, movies):\n",
        "  return [(movie[\"title\"],cast[\"name\"], cast[\"character\"]) for movie in movies for cast in movie[\"credits\"][\"cast\"] if char in cast[\"character\"]] "
      ],
      "execution_count": 0,
      "outputs": []
    },
    {
      "cell_type": "code",
      "metadata": {
        "id": "SP3hKBMlq3GK",
        "colab_type": "code",
        "colab": {}
      },
      "source": [
        "crew = getPerson(searchPerson(\"Stan Lee\")[\"results\"][0][\"id\"])[\"movie_credits\"][\"crew\"]\n",
        "movies_ids = [movie[\"id\"] for movie in crew]\n",
        "movies_ids = np.unique(np.array(movies_ids))\n",
        "movies = [getMovie(movie) for movie in movies_ids]"
      ],
      "execution_count": 0,
      "outputs": []
    },
    {
      "cell_type": "code",
      "metadata": {
        "id": "0_BCuZqxzYu_",
        "colab_type": "code",
        "outputId": "a46d6295-8ce9-4b03-f303-d9294eac2436",
        "colab": {
          "base_uri": "https://localhost:8080/",
          "height": 243
        }
      },
      "source": [
        "getRoles(\"Chris Evans\", movies)"
      ],
      "execution_count": 13,
      "outputs": [
        {
          "output_type": "execute_result",
          "data": {
            "text/plain": [
              "[('Captain America: The First Avenger', 'Steve Rogers / Captain America'),\n",
              " ('Fantastic Four: Rise of the Silver Surfer', 'Johnny Storm / Human Torch'),\n",
              " ('Fantastic Four', 'Johnny Storm / Human Torch'),\n",
              " ('The Avengers', 'Steve Rogers / Captain America'),\n",
              " ('Thor: The Dark World', 'Loki as Captain America (uncredited)'),\n",
              " ('Avengers: Age of Ultron', 'Steve Rogers / Captain America'),\n",
              " ('Captain America: The Winter Soldier', 'Steve Rogers / Captain America'),\n",
              " ('Ant-Man', 'Steve Rogers / Captain America (uncredited)'),\n",
              " ('Captain America: Civil War', 'Steve Rogers / Captain America'),\n",
              " ('Avengers: Endgame', 'Steve Rogers / Captain America'),\n",
              " ('Avengers: Infinity War', 'Steve Rogers / Captain America'),\n",
              " ('Captain Marvel', 'Steve Rogers / Captain America (uncredited)'),\n",
              " ('Spider-Man: Homecoming', 'Steve Rogers / Captain America')]"
            ]
          },
          "metadata": {
            "tags": []
          },
          "execution_count": 13
        }
      ]
    },
    {
      "cell_type": "code",
      "metadata": {
        "id": "4pQHDc2zqnPJ",
        "colab_type": "code",
        "colab": {}
      },
      "source": [
        "batman_movies_ids = [movie[\"id\"] for movie in searchMovie(\"Batman\")]\n",
        "batman_movies_ids = np.unique(np.array(batman_movies_ids))\n",
        "batman_movies = [getMovie(movie) for movie in batman_movies_ids]\n",
        "\n",
        "batman_cast = [(cast[\"name\"]) for movie in batman_movies for cast in movie[\"credits\"][\"cast\"]] \n"
      ],
      "execution_count": 0,
      "outputs": []
    },
    {
      "cell_type": "code",
      "metadata": {
        "id": "3ygKvUiVu1N2",
        "colab_type": "code",
        "colab": {}
      },
      "source": [
        "batman_animation = getMoviesWithGenre(16,batman_movies)"
      ],
      "execution_count": 0,
      "outputs": []
    },
    {
      "cell_type": "code",
      "metadata": {
        "id": "HvPcNh0hwc45",
        "colab_type": "code",
        "colab": {
          "base_uri": "https://localhost:8080/",
          "height": 903
        },
        "outputId": "2ad614e0-dffa-4c34-d678-5f9946f2feb8"
      },
      "source": [
        "[movie[\"title\"] for movie in batman_animation]"
      ],
      "execution_count": 17,
      "outputs": [
        {
          "output_type": "execute_result",
          "data": {
            "text/plain": [
              "['Batman: Gotham Knight',\n",
              " 'Batman: Mask of the Phantasm',\n",
              " 'Batman & Mr. Freeze: SubZero',\n",
              " 'Batman Beyond: Return of the Joker',\n",
              " \"The Batman Superman Movie: World's Finest\",\n",
              " 'The Batman vs. Dracula',\n",
              " 'Batman: Mystery of the Batwoman',\n",
              " 'Superman/Batman: Public Enemies',\n",
              " 'Batman: Under the Red Hood',\n",
              " 'Superman/Batman: Apocalypse',\n",
              " 'Batman Beyond: The Movie',\n",
              " 'Batman: Year One',\n",
              " 'Batman: The Dark Knight Returns, Part 1',\n",
              " 'Batman: The Dark Knight Returns, Part 2',\n",
              " 'Lego Batman: The Movie - DC Super Heroes Unite',\n",
              " 'Black Star and the Golden Bat',\n",
              " 'Batman: A Gotham Fairytale',\n",
              " 'Batman: Assault on Arkham',\n",
              " 'Son of Batman',\n",
              " 'Batman vs. The Terminator',\n",
              " 'Batman: Strange Days',\n",
              " 'Batman Beyond',\n",
              " 'Scooby-Doo Meets Batman',\n",
              " 'LEGO DC Comics Super Heroes: Batman: Be-Leaguered',\n",
              " 'Batman vs. Robin',\n",
              " 'The Lego Batman Movie',\n",
              " 'Batman Unlimited: Animal Instincts',\n",
              " 'Batman Unlimited: Monster Mayhem',\n",
              " 'Batman: Bad Blood',\n",
              " 'Batman and Friends',\n",
              " 'Batman: The Killing Joke',\n",
              " 'LEGO DC Comics Super Heroes: Justice League - Gotham City Breakout',\n",
              " 'Batman and Harley Quinn',\n",
              " 'Batman: Return of the Caped Crusaders',\n",
              " 'Batman Unlimited: Mechs vs. Mutants',\n",
              " 'Batman Is Just Not That Into You',\n",
              " 'Batman vs. Two-Face',\n",
              " 'Batman: Gotham by Gaslight',\n",
              " 'Batman: The Dark Knight Returns (Deluxe Edition)',\n",
              " 'Scooby-Doo! & Batman: The Brave and the Bold',\n",
              " 'Batman Ninja',\n",
              " 'Batman Beyond: Tech Wars / Disappearing Inque',\n",
              " 'Adventures of Batman & Robin: Poison Ivy/The Penguin',\n",
              " 'Batman: The Animated Series - The Legend Begins',\n",
              " 'Batman: The Animated Series - Out of the Shadows',\n",
              " 'Batman: The Animated Series -  Tales of the Dark Knight',\n",
              " 'Batman: Mad Love Motion Comic',\n",
              " 'Batman: Hush',\n",
              " 'The Lego Batman Movie 2',\n",
              " 'Untitled Batman Beyond Film',\n",
              " 'Batman vs. Teenage Mutant Ninja Turtles']"
            ]
          },
          "metadata": {
            "tags": []
          },
          "execution_count": 17
        }
      ]
    },
    {
      "cell_type": "code",
      "metadata": {
        "id": "nkkLZ8wn2q2y",
        "colab_type": "code",
        "outputId": "6045589d-07b4-482c-fde9-ca1634aeac14",
        "colab": {
          "base_uri": "https://localhost:8080/",
          "height": 1597
        }
      },
      "source": [
        "getCharacter(\"Batman\", getMoviesWithGenre(16,batman_movies))"
      ],
      "execution_count": 18,
      "outputs": [
        {
          "output_type": "execute_result",
          "data": {
            "text/plain": [
              "[('Batman: Gotham Knight', 'Kevin Conroy', 'Batman / Bruce Wayne (voice)'),\n",
              " ('Batman: Mask of the Phantasm',\n",
              "  'Kevin Conroy',\n",
              "  'Batman / Bruce Wayne (voice)'),\n",
              " ('Batman & Mr. Freeze: SubZero', 'Kevin Conroy', 'Bruce Wayne / Batman'),\n",
              " ('Batman Beyond: Return of the Joker',\n",
              "  'Will Friedle',\n",
              "  \"Terence 'Terry' McGinnis / Batman\"),\n",
              " ('Batman Beyond: Return of the Joker',\n",
              "  'Kevin Conroy',\n",
              "  'Bruce Wayne / Batman'),\n",
              " (\"The Batman Superman Movie: World's Finest\",\n",
              "  'Kevin Conroy',\n",
              "  'Batman / Bruce Wayne (voice)'),\n",
              " ('The Batman vs. Dracula', 'Rino Romano', 'Bruce Wayne / Batman'),\n",
              " ('Batman: Mystery of the Batwoman', 'Kevin Conroy', 'Bruce Wayne / Batman'),\n",
              " ('Superman/Batman: Public Enemies',\n",
              "  'Kevin Conroy',\n",
              "  'Batman / Bruce Wayne (voice)'),\n",
              " ('Batman: Under the Red Hood',\n",
              "  'Bruce Greenwood',\n",
              "  'Batman / Bruce Wayne (voice)'),\n",
              " ('Superman/Batman: Apocalypse', 'Kevin Conroy', 'Batman (voice)'),\n",
              " ('Batman Beyond: The Movie', 'Will Friedle', 'Terry McGinnis / Batman'),\n",
              " ('Batman Beyond: The Movie', 'Kevin Conroy', 'Bruce Wayne / Batman'),\n",
              " ('Batman: Year One', 'Ben McKenzie', 'Batman/Bruce Wayne (voice)'),\n",
              " ('Batman: The Dark Knight Returns, Part 1',\n",
              "  'Peter Weller',\n",
              "  'Batman / Bruce Wayne (voice)'),\n",
              " ('Batman: The Dark Knight Returns, Part 1',\n",
              "  'Yuri Lowenthal',\n",
              "  'Son of Batman / Rookie Police Officer (voice)'),\n",
              " ('Batman: The Dark Knight Returns, Part 2',\n",
              "  'Peter Weller',\n",
              "  'Batman / Bruce Wayne (voice)'),\n",
              " ('Batman: The Dark Knight Returns, Part 2',\n",
              "  'Yuri Lowenthal',\n",
              "  'Son of Batman (voice)'),\n",
              " ('Lego Batman: The Movie - DC Super Heroes Unite',\n",
              "  'Troy Baker',\n",
              "  'Batman / Two-Face (voice)'),\n",
              " ('Batman: Assault on Arkham', 'Kevin Conroy', 'Batman / Bruce Wayne (voice)'),\n",
              " ('Son of Batman', \"Jason O'Mara\", 'Bruce Wayne / Batman (voice)'),\n",
              " ('Batman vs. The Terminator', 'Mitchell Hammond', 'Batman'),\n",
              " ('Batman: Strange Days', 'Kevin Conroy', 'Batman (voice)'),\n",
              " ('Batman Beyond', 'Will Friedle', 'Terry McGinnis / Batman (voice)'),\n",
              " ('Scooby-Doo Meets Batman', 'Olan Soule', 'Batman (voice) (archive footage)'),\n",
              " ('LEGO DC Comics Super Heroes: Batman: Be-Leaguered',\n",
              "  'Troy Baker',\n",
              "  'Batman / Bruce Wayne (voice)'),\n",
              " ('Batman vs. Robin', \"Jason O'Mara\", 'Bruce Wayne / Batman (voice)'),\n",
              " ('The Lego Batman Movie', 'Will Arnett', 'Batman / Bruce Wayne (voice)'),\n",
              " ('Batman Unlimited: Animal Instincts', 'Roger Craig Smith', 'Batman (voice)'),\n",
              " ('Batman Unlimited: Monster Mayhem', 'Roger Craig Smith', 'Batman (voice)'),\n",
              " ('Batman: Bad Blood', \"Jason O'Mara\", 'Batman / Bruce Wayne (voice)'),\n",
              " ('Batman: The Killing Joke', 'Kevin Conroy', 'Bruce Wayne / Batman (voice)'),\n",
              " ('LEGO DC Comics Super Heroes: Justice League - Gotham City Breakout',\n",
              "  'Troy Baker',\n",
              "  'Batman (voice)'),\n",
              " ('Batman and Harley Quinn', 'Kevin Conroy', 'Batman / Bruce Wayne (voice)'),\n",
              " ('Batman: Return of the Caped Crusaders',\n",
              "  'Adam West',\n",
              "  'Bruce Wayne / Batman (voice)'),\n",
              " ('Batman Unlimited: Mechs vs. Mutants',\n",
              "  'Roger Craig Smith',\n",
              "  'Batman / Bruce Wayne (voice)'),\n",
              " ('Batman Unlimited: Mechs vs. Mutants',\n",
              "  'Roger Craig Smith',\n",
              "  'Batman / Bruce Wayne'),\n",
              " ('Batman Is Just Not That Into You', 'Will Arnett', 'Batman'),\n",
              " ('Batman vs. Two-Face', 'Adam West', 'Bruce Wayne / Batman (voice)'),\n",
              " ('Batman: Gotham by Gaslight',\n",
              "  'Bruce Greenwood',\n",
              "  'Bruce Wayne / Batman (voice)'),\n",
              " ('Batman: The Dark Knight Returns (Deluxe Edition)',\n",
              "  'Peter Weller',\n",
              "  'Bruce Wayne  (voice) / Batman (voice)'),\n",
              " ('Batman: The Dark Knight Returns (Deluxe Edition)',\n",
              "  'Yuri Lowenthal',\n",
              "  'The Son of Batman  (voice)'),\n",
              " ('Scooby-Doo! & Batman: The Brave and the Bold',\n",
              "  'Diedrich Bader',\n",
              "  'Batman (voice)'),\n",
              " ('Batman Ninja', 'Kouichi Yamadera', 'Batman / Bruce Wayne (voice)'),\n",
              " ('Batman Beyond: Tech Wars / Disappearing Inque', 'Will Friedle', 'Batman'),\n",
              " ('Batman: The Animated Series - The Legend Begins', 'Kevin Conroy', 'Batman'),\n",
              " ('Batman: Hush', \"Jason O'Mara\", 'Bruce Wayne / Batman (voice)'),\n",
              " ('The Lego Batman Movie 2', 'Will Arnett', 'Batman / Bruce Wayne (voice)'),\n",
              " ('Batman vs. Teenage Mutant Ninja Turtles',\n",
              "  'Troy Baker',\n",
              "  'Bruce Wayne / Batman / The Joker (voice)')]"
            ]
          },
          "metadata": {
            "tags": []
          },
          "execution_count": 18
        }
      ]
    },
    {
      "cell_type": "code",
      "metadata": {
        "id": "2O5n0mELu6YW",
        "colab_type": "code",
        "colab": {}
      },
      "source": [
        "movies_akira_as_director = getJobFrom(\"Director\", getPerson(searchPerson(\"Akira Kurosawa\")[\"results\"][0][\"id\"])[\"movie_credits\"][\"crew\"])"
      ],
      "execution_count": 0,
      "outputs": []
    },
    {
      "cell_type": "code",
      "metadata": {
        "id": "0XgPMCoSuAl9",
        "colab_type": "code",
        "colab": {
          "base_uri": "https://localhost:8080/",
          "height": 573
        },
        "outputId": "9f3686f5-c00c-41ed-ab2c-a7141865972d"
      },
      "source": [
        "[(work[\"title\"],work[\"popularity\"]) for work in movies_akira]"
      ],
      "execution_count": 24,
      "outputs": [
        {
          "output_type": "execute_result",
          "data": {
            "text/plain": [
              "[('Seven Samurai', 16.154),\n",
              " ('Rashomon', 10.607),\n",
              " ('The Hidden Fortress', 10.845),\n",
              " ('Throne of Blood', 9.095),\n",
              " ('Red Beard', 8.588),\n",
              " ('Ikiru', 11.991),\n",
              " ('Rhapsody in August', 2.342),\n",
              " ('Stray Dog', 7.18),\n",
              " ('I Live in Fear', 4.393),\n",
              " ('Ran', 8.982),\n",
              " ('Sanjuro', 6.838),\n",
              " ('The Bad Sleep Well', 7.59),\n",
              " ('Yojimbo', 9.009),\n",
              " ('The Idiot', 5.632),\n",
              " ('Kagemusha', 10.457),\n",
              " ('Drunken Angel', 6.454),\n",
              " ('Scandal', 4.115),\n",
              " ('High and Low', 8.822),\n",
              " ('Dreams', 7.869),\n",
              " (\"Dodes'ka-den\", 3.487),\n",
              " ('The Lower Depths', 4.189),\n",
              " ('Dersu Uzala', 8.02),\n",
              " ('Sanshiro Sugata', 3.679),\n",
              " ('Madadayo', 3.251),\n",
              " (\"The Men Who Tread on the Tiger's Tail\", 4.29),\n",
              " ('No Regrets for Our Youth', 2.188),\n",
              " ('The Quiet Duel', 4.315),\n",
              " ('Sanshiro Sugata Part Two', 1.034),\n",
              " ('One Wonderful Sunday', 4.714),\n",
              " ('The Most Beautiful', 3.04),\n",
              " ('Those Who Make Tomorrow', 1.4),\n",
              " ('Song of the Horse', 0.873)]"
            ]
          },
          "metadata": {
            "tags": []
          },
          "execution_count": 24
        }
      ]
    },
    {
      "cell_type": "code",
      "metadata": {
        "id": "pDWvzmiIuBKy",
        "colab_type": "code",
        "colab": {}
      },
      "source": [
        ""
      ],
      "execution_count": 0,
      "outputs": []
    }
  ]
}